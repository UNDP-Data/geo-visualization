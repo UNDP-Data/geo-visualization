{
 "cells": [
  {
   "cell_type": "markdown",
   "id": "66bff243-4913-4473-923d-2111668ec236",
   "metadata": {},
   "source": [
    "#  Visualize points as heatmap\n",
    "\n",
    "In particular situations when the number of points on the map is excessive their visualization can become problematic. Essentially\n",
    "the points start to overlap and crods the map up to the point where it becomes unreadable. A possible solution is representated by\n",
    "vizualizing the points as a **heatmap**, focusing on the density or intensity of data points across a geographic area. Instead of showing individual points, a heatmap uses color gradients to show where data points are concentrated, allowing patterns and trends to be visually interpreted more easily.\n",
    "\n",
    "\n",
    ">  a heatmap **should not** be used to represent anything else than the density ofd the points. While a heatmap appears similar to a surface it does not share any of characteritics. \n",
    "\n"
   ]
  },
  {
   "cell_type": "markdown",
   "id": "b8ceafb4-086d-4cfe-9966-ed7ba0983137",
   "metadata": {},
   "source": [
    "## Imports\n",
    "\n",
    "alter sys.path so we can import utils module"
   ]
  },
  {
   "cell_type": "code",
   "execution_count": 1,
   "id": "d1133d37-2da0-46b0-9f7c-2d59d699fa8b",
   "metadata": {},
   "outputs": [],
   "source": [
    "import sys\n",
    "import os\n",
    "import ipywidgets as widgets\n",
    "# Add parent directory to sys.path\n",
    "sys.path.insert(0, os.path.abspath('..'))"
   ]
  },
  {
   "cell_type": "code",
   "execution_count": 2,
   "id": "56c07418-44e7-4842-a037-87d9ac0c873f",
   "metadata": {},
   "outputs": [],
   "source": [
    "import utils"
   ]
  },
  {
   "cell_type": "code",
   "execution_count": 3,
   "id": "6191aa94-fc54-4ab4-9150-de1fb0ec5d7d",
   "metadata": {},
   "outputs": [],
   "source": [
    "import leafmap.maplibregl as leafmap"
   ]
  },
  {
   "cell_type": "markdown",
   "id": "318932f6-5494-4d7d-b3b4-82c2b462130b",
   "metadata": {
    "editable": true,
    "slideshow": {
     "slide_type": ""
    },
    "tags": []
   },
   "source": [
    "## Data\n",
    "\n",
    "We are going to vizualize a point layer representing building from east of Bangladesh. Geohub features [REST API](https://dev.undpgeohub.org/api)\n",
    "and as a result it is possible to searh for data usingh the [/datasets](https://dev.undpgeohub.org/api/datasets) endpoint. The [utils module](../utils.py) contains a search function that takes a query expression or workd and returns a dictionary where the key is the dataset id and value is a list of links."
   ]
  },
  {
   "cell_type": "code",
   "execution_count": 4,
   "id": "db1dd84a-42c5-4e21-bfd3-d1b63f5c3f58",
   "metadata": {},
   "outputs": [],
   "source": [
    "query='bangladesh buildings'\n",
    "results = utils.search_datasets(query=query)"
   ]
  },
  {
   "cell_type": "code",
   "execution_count": 5,
   "id": "25a8cb8a-fe07-4563-af2a-2da1e897fc34",
   "metadata": {},
   "outputs": [],
   "source": [
    "\n",
    "ds_id, links = next(iter(results.items()))\n",
    "pmtiles_url = [e['href'] for e in links if e['rel'] == 'download'].pop()\n"
   ]
  },
  {
   "cell_type": "markdown",
   "id": "e55cd06d-8e26-47ab-94db-f50969da6c28",
   "metadata": {},
   "source": [
    "## Visualization\n",
    "\n",
    "leafmap is equipped with some util functions that allow us to inspect the PMTiles file"
   ]
  },
  {
   "cell_type": "code",
   "execution_count": 6,
   "id": "d70f94fa-17fc-4974-bf19-336cfb9b43b1",
   "metadata": {},
   "outputs": [
    {
     "name": "stdout",
     "output_type": "stream",
     "text": [
      "layer names: ['bldgsc']\n",
      "bounds: [90.8483229, 23.3422379, 91.063028, 23.510859]\n"
     ]
    }
   ],
   "source": [
    "metadata = leafmap.pmtiles_metadata(pmtiles_url)\n",
    "print(f\"layer names: {metadata['layer_names']}\")\n",
    "print(f\"bounds: {metadata['bounds']}\")\n"
   ]
  },
  {
   "cell_type": "markdown",
   "id": "17eaa1fa-72b6-47e4-b74d-26426700c991",
   "metadata": {},
   "source": [
    "## Attributes or properties\n",
    "\n",
    "Vector tiles are very efficient with compressing attributes or properties. The medata variable crteated above can be used to explore/dicover\n",
    "the properties of attributes that existy in the data file.\n"
   ]
  },
  {
   "cell_type": "code",
   "execution_count": 7,
   "id": "44855cb7-4975-43f9-8210-354001ae2f20",
   "metadata": {},
   "outputs": [
    {
     "name": "stdout",
     "output_type": "stream",
     "text": [
      "{\n",
      "    \"area_in_meters\": \"Number\",\n",
      "    \"bf_source\": \"String\",\n",
      "    \"boundary_id\": \"Mixed\",\n",
      "    \"confidence\": \"Number\",\n",
      "    \"country_iso\": \"String\",\n",
      "    \"geohash\": \"String\",\n",
      "    \"s2_id\": \"Mixed\"\n",
      "}\n",
      "\n",
      "\n"
     ]
    }
   ],
   "source": [
    "import json\n",
    "#print(json.dumps(metadata, indent=2))\n",
    "fields = metadata['vector_layers'][0]['fields']\n",
    "print(json.dumps(fields, indent=4))\n",
    "attrs = metadata['tilestats']['layers'][0]['attributes']\n",
    "print('\\n')\n"
   ]
  },
  {
   "cell_type": "markdown",
   "id": "2bad22ba-29be-4920-aa06-486b596130ef",
   "metadata": {},
   "source": [
    "The best chance to assign a color to every point is to inspoect the values of a string type attribute or property like **bf_source**\n"
   ]
  },
  {
   "cell_type": "code",
   "execution_count": 8,
   "id": "59605b76-01bb-471a-9df7-6e719f27ef76",
   "metadata": {},
   "outputs": [
    {
     "name": "stdout",
     "output_type": "stream",
     "text": [
      "\n",
      "\n",
      "bf_source attribute values are ['google', 'microsoft', 'osm']\n",
      "\n"
     ]
    }
   ],
   "source": [
    "print('\\n')\n",
    "for e in attrs:\n",
    "    if e['attribute'] == 'bf_source':\n",
    "        print(f'bf_source attribute values are {e[\"values\"]}\\n')\n"
   ]
  },
  {
   "cell_type": "markdown",
   "id": "c0aaf536-c64d-4c4b-a504-3a937677a2f0",
   "metadata": {},
   "source": [
    "We will assign a scperific color to every points based on the values of the **bf_source** attribute"
   ]
  },
  {
   "cell_type": "code",
   "execution_count": 9,
   "id": "d0a90f57-ef13-4bf7-8630-55beaf563f48",
   "metadata": {},
   "outputs": [
    {
     "ename": "TraitError",
     "evalue": "The 'value' trait of a FloatSlider instance expected a float, not the list ['interpolate', ['linear'], ['zoom'], 7, 1, 9, 0].",
     "output_type": "error",
     "traceback": [
      "\u001b[0;31m---------------------------------------------------------------------------\u001b[0m",
      "\u001b[0;31mTypeError\u001b[0m                                 Traceback (most recent call last)",
      "File \u001b[0;32m~/.local/share/virtualenvs/geo-visualization-hk5YsQd9/lib/python3.12/site-packages/traitlets/traitlets.py:2809\u001b[0m, in \u001b[0;36mCFloat.validate\u001b[0;34m(self, obj, value)\u001b[0m\n\u001b[1;32m   2808\u001b[0m \u001b[38;5;28;01mtry\u001b[39;00m:\n\u001b[0;32m-> 2809\u001b[0m     value \u001b[38;5;241m=\u001b[39m \u001b[38;5;28;43mfloat\u001b[39;49m\u001b[43m(\u001b[49m\u001b[43mvalue\u001b[49m\u001b[43m)\u001b[49m\n\u001b[1;32m   2810\u001b[0m \u001b[38;5;28;01mexcept\u001b[39;00m \u001b[38;5;167;01mException\u001b[39;00m:\n",
      "\u001b[0;31mTypeError\u001b[0m: float() argument must be a string or a real number, not 'list'",
      "\nDuring handling of the above exception, another exception occurred:\n",
      "\u001b[0;31mTraitError\u001b[0m                                Traceback (most recent call last)",
      "Cell \u001b[0;32mIn[9], line 69\u001b[0m\n\u001b[1;32m      6\u001b[0m simple_point_style \u001b[38;5;241m=\u001b[39m {\n\u001b[1;32m      7\u001b[0m     \u001b[38;5;124m\"\u001b[39m\u001b[38;5;124mversion\u001b[39m\u001b[38;5;124m\"\u001b[39m: \u001b[38;5;241m8\u001b[39m,\n\u001b[1;32m      8\u001b[0m     \u001b[38;5;124m\"\u001b[39m\u001b[38;5;124msources\u001b[39m\u001b[38;5;124m\"\u001b[39m: {\n\u001b[0;32m   (...)\u001b[0m\n\u001b[1;32m     59\u001b[0m     ]\n\u001b[1;32m     60\u001b[0m }\n\u001b[1;32m     61\u001b[0m m\u001b[38;5;241m.\u001b[39madd_pmtiles(\n\u001b[1;32m     62\u001b[0m     pmtiles_url,\n\u001b[1;32m     63\u001b[0m     style\u001b[38;5;241m=\u001b[39msimple_point_style,\n\u001b[0;32m   (...)\u001b[0m\n\u001b[1;32m     66\u001b[0m     tooltip\u001b[38;5;241m=\u001b[39m\u001b[38;5;28;01mTrue\u001b[39;00m,\n\u001b[1;32m     67\u001b[0m )\n\u001b[0;32m---> 69\u001b[0m \u001b[43mm\u001b[49m\u001b[38;5;241;43m.\u001b[39;49m\u001b[43mlayer_interact\u001b[49m\u001b[43m(\u001b[49m\u001b[43m)\u001b[49m\n",
      "File \u001b[0;32m~/.local/share/virtualenvs/geo-visualization-hk5YsQd9/lib/python3.12/site-packages/leafmap/maplibregl.py:1523\u001b[0m, in \u001b[0;36mMap.layer_interact\u001b[0;34m(self, name)\u001b[0m\n\u001b[1;32m   1511\u001b[0m dropdown \u001b[38;5;241m=\u001b[39m widgets\u001b[38;5;241m.\u001b[39mDropdown(\n\u001b[1;32m   1512\u001b[0m     options\u001b[38;5;241m=\u001b[39mlayer_names,\n\u001b[1;32m   1513\u001b[0m     value\u001b[38;5;241m=\u001b[39mname,\n\u001b[1;32m   1514\u001b[0m     description\u001b[38;5;241m=\u001b[39m\u001b[38;5;124m\"\u001b[39m\u001b[38;5;124mLayer\u001b[39m\u001b[38;5;124m\"\u001b[39m,\n\u001b[1;32m   1515\u001b[0m     style\u001b[38;5;241m=\u001b[39mstyle,\n\u001b[1;32m   1516\u001b[0m )\n\u001b[1;32m   1517\u001b[0m checkbox \u001b[38;5;241m=\u001b[39m widgets\u001b[38;5;241m.\u001b[39mCheckbox(\n\u001b[1;32m   1518\u001b[0m     description\u001b[38;5;241m=\u001b[39m\u001b[38;5;124m\"\u001b[39m\u001b[38;5;124mVisible\u001b[39m\u001b[38;5;124m\"\u001b[39m,\n\u001b[1;32m   1519\u001b[0m     value\u001b[38;5;241m=\u001b[39m\u001b[38;5;28mself\u001b[39m\u001b[38;5;241m.\u001b[39mlayer_dict[name][\u001b[38;5;124m\"\u001b[39m\u001b[38;5;124mvisible\u001b[39m\u001b[38;5;124m\"\u001b[39m],\n\u001b[1;32m   1520\u001b[0m     style\u001b[38;5;241m=\u001b[39mstyle,\n\u001b[1;32m   1521\u001b[0m     layout\u001b[38;5;241m=\u001b[39mwidgets\u001b[38;5;241m.\u001b[39mLayout(width\u001b[38;5;241m=\u001b[39m\u001b[38;5;124m\"\u001b[39m\u001b[38;5;124m120px\u001b[39m\u001b[38;5;124m\"\u001b[39m),\n\u001b[1;32m   1522\u001b[0m )\n\u001b[0;32m-> 1523\u001b[0m opacity_slider \u001b[38;5;241m=\u001b[39m \u001b[43mwidgets\u001b[49m\u001b[38;5;241;43m.\u001b[39;49m\u001b[43mFloatSlider\u001b[49m\u001b[43m(\u001b[49m\n\u001b[1;32m   1524\u001b[0m \u001b[43m    \u001b[49m\u001b[43mdescription\u001b[49m\u001b[38;5;241;43m=\u001b[39;49m\u001b[38;5;124;43m\"\u001b[39;49m\u001b[38;5;124;43mOpacity\u001b[39;49m\u001b[38;5;124;43m\"\u001b[39;49m\u001b[43m,\u001b[49m\n\u001b[1;32m   1525\u001b[0m \u001b[43m    \u001b[49m\u001b[38;5;28;43mmin\u001b[39;49m\u001b[38;5;241;43m=\u001b[39;49m\u001b[38;5;241;43m0\u001b[39;49m\u001b[43m,\u001b[49m\n\u001b[1;32m   1526\u001b[0m \u001b[43m    \u001b[49m\u001b[38;5;28;43mmax\u001b[39;49m\u001b[38;5;241;43m=\u001b[39;49m\u001b[38;5;241;43m1\u001b[39;49m\u001b[43m,\u001b[49m\n\u001b[1;32m   1527\u001b[0m \u001b[43m    \u001b[49m\u001b[43mstep\u001b[49m\u001b[38;5;241;43m=\u001b[39;49m\u001b[38;5;241;43m0.01\u001b[39;49m\u001b[43m,\u001b[49m\n\u001b[1;32m   1528\u001b[0m \u001b[43m    \u001b[49m\u001b[43mvalue\u001b[49m\u001b[38;5;241;43m=\u001b[39;49m\u001b[38;5;28;43mself\u001b[39;49m\u001b[38;5;241;43m.\u001b[39;49m\u001b[43mlayer_dict\u001b[49m\u001b[43m[\u001b[49m\u001b[43mname\u001b[49m\u001b[43m]\u001b[49m\u001b[43m[\u001b[49m\u001b[38;5;124;43m\"\u001b[39;49m\u001b[38;5;124;43mopacity\u001b[39;49m\u001b[38;5;124;43m\"\u001b[39;49m\u001b[43m]\u001b[49m\u001b[43m,\u001b[49m\n\u001b[1;32m   1529\u001b[0m \u001b[43m    \u001b[49m\u001b[43mstyle\u001b[49m\u001b[38;5;241;43m=\u001b[39;49m\u001b[43mstyle\u001b[49m\u001b[43m,\u001b[49m\n\u001b[1;32m   1530\u001b[0m \u001b[43m\u001b[49m\u001b[43m)\u001b[49m\n\u001b[1;32m   1532\u001b[0m color_picker \u001b[38;5;241m=\u001b[39m widgets\u001b[38;5;241m.\u001b[39mColorPicker(\n\u001b[1;32m   1533\u001b[0m     concise\u001b[38;5;241m=\u001b[39m\u001b[38;5;28;01mTrue\u001b[39;00m,\n\u001b[1;32m   1534\u001b[0m     value\u001b[38;5;241m=\u001b[39m\u001b[38;5;124m\"\u001b[39m\u001b[38;5;124mwhite\u001b[39m\u001b[38;5;124m\"\u001b[39m,\n\u001b[1;32m   1535\u001b[0m     style\u001b[38;5;241m=\u001b[39mstyle,\n\u001b[1;32m   1536\u001b[0m )\n\u001b[1;32m   1538\u001b[0m \u001b[38;5;28;01mif\u001b[39;00m \u001b[38;5;28mself\u001b[39m\u001b[38;5;241m.\u001b[39mlayer_dict[name][\u001b[38;5;124m\"\u001b[39m\u001b[38;5;124mcolor\u001b[39m\u001b[38;5;124m\"\u001b[39m] \u001b[38;5;129;01mis\u001b[39;00m \u001b[38;5;129;01mnot\u001b[39;00m \u001b[38;5;28;01mNone\u001b[39;00m:\n",
      "File \u001b[0;32m~/.local/share/virtualenvs/geo-visualization-hk5YsQd9/lib/python3.12/site-packages/ipywidgets/widgets/widget_float.py:26\u001b[0m, in \u001b[0;36m_Float.__init__\u001b[0;34m(self, value, **kwargs)\u001b[0m\n\u001b[1;32m     24\u001b[0m \u001b[38;5;28;01mif\u001b[39;00m value \u001b[38;5;129;01mis\u001b[39;00m \u001b[38;5;129;01mnot\u001b[39;00m \u001b[38;5;28;01mNone\u001b[39;00m:\n\u001b[1;32m     25\u001b[0m     kwargs[\u001b[38;5;124m'\u001b[39m\u001b[38;5;124mvalue\u001b[39m\u001b[38;5;124m'\u001b[39m] \u001b[38;5;241m=\u001b[39m value\n\u001b[0;32m---> 26\u001b[0m \u001b[38;5;28;43msuper\u001b[39;49m\u001b[43m(\u001b[49m\u001b[43m)\u001b[49m\u001b[38;5;241;43m.\u001b[39;49m\u001b[38;5;21;43m__init__\u001b[39;49m\u001b[43m(\u001b[49m\u001b[38;5;241;43m*\u001b[39;49m\u001b[38;5;241;43m*\u001b[39;49m\u001b[43mkwargs\u001b[49m\u001b[43m)\u001b[49m\n",
      "File \u001b[0;32m~/.local/share/virtualenvs/geo-visualization-hk5YsQd9/lib/python3.12/site-packages/ipywidgets/widgets/widget_description.py:35\u001b[0m, in \u001b[0;36mDescriptionWidget.__init__\u001b[0;34m(self, *args, **kwargs)\u001b[0m\n\u001b[1;32m     33\u001b[0m     kwargs\u001b[38;5;241m.\u001b[39msetdefault(\u001b[38;5;124m'\u001b[39m\u001b[38;5;124mtooltip\u001b[39m\u001b[38;5;124m'\u001b[39m, kwargs[\u001b[38;5;124m'\u001b[39m\u001b[38;5;124mdescription_tooltip\u001b[39m\u001b[38;5;124m'\u001b[39m])\n\u001b[1;32m     34\u001b[0m     \u001b[38;5;28;01mdel\u001b[39;00m kwargs[\u001b[38;5;124m'\u001b[39m\u001b[38;5;124mdescription_tooltip\u001b[39m\u001b[38;5;124m'\u001b[39m]\n\u001b[0;32m---> 35\u001b[0m \u001b[38;5;28;43msuper\u001b[39;49m\u001b[43m(\u001b[49m\u001b[43m)\u001b[49m\u001b[38;5;241;43m.\u001b[39;49m\u001b[38;5;21;43m__init__\u001b[39;49m\u001b[43m(\u001b[49m\u001b[38;5;241;43m*\u001b[39;49m\u001b[43margs\u001b[49m\u001b[43m,\u001b[49m\u001b[43m \u001b[49m\u001b[38;5;241;43m*\u001b[39;49m\u001b[38;5;241;43m*\u001b[39;49m\u001b[43mkwargs\u001b[49m\u001b[43m)\u001b[49m\n",
      "File \u001b[0;32m~/.local/share/virtualenvs/geo-visualization-hk5YsQd9/lib/python3.12/site-packages/ipywidgets/widgets/widget.py:503\u001b[0m, in \u001b[0;36mWidget.__init__\u001b[0;34m(self, **kwargs)\u001b[0m\n\u001b[1;32m    501\u001b[0m \u001b[38;5;250m\u001b[39m\u001b[38;5;124;03m\"\"\"Public constructor\"\"\"\u001b[39;00m\n\u001b[1;32m    502\u001b[0m \u001b[38;5;28mself\u001b[39m\u001b[38;5;241m.\u001b[39m_model_id \u001b[38;5;241m=\u001b[39m kwargs\u001b[38;5;241m.\u001b[39mpop(\u001b[38;5;124m'\u001b[39m\u001b[38;5;124mmodel_id\u001b[39m\u001b[38;5;124m'\u001b[39m, \u001b[38;5;28;01mNone\u001b[39;00m)\n\u001b[0;32m--> 503\u001b[0m \u001b[38;5;28;43msuper\u001b[39;49m\u001b[43m(\u001b[49m\u001b[43m)\u001b[49m\u001b[38;5;241;43m.\u001b[39;49m\u001b[38;5;21;43m__init__\u001b[39;49m\u001b[43m(\u001b[49m\u001b[38;5;241;43m*\u001b[39;49m\u001b[38;5;241;43m*\u001b[39;49m\u001b[43mkwargs\u001b[49m\u001b[43m)\u001b[49m\n\u001b[1;32m    505\u001b[0m Widget\u001b[38;5;241m.\u001b[39m_call_widget_constructed(\u001b[38;5;28mself\u001b[39m)\n\u001b[1;32m    506\u001b[0m \u001b[38;5;28mself\u001b[39m\u001b[38;5;241m.\u001b[39mopen()\n",
      "File \u001b[0;32m~/.local/share/virtualenvs/geo-visualization-hk5YsQd9/lib/python3.12/site-packages/traitlets/traitlets.py:1355\u001b[0m, in \u001b[0;36mHasTraits.__init__\u001b[0;34m(self, *args, **kwargs)\u001b[0m\n\u001b[1;32m   1353\u001b[0m \u001b[38;5;28;01mfor\u001b[39;00m key, value \u001b[38;5;129;01min\u001b[39;00m kwargs\u001b[38;5;241m.\u001b[39mitems():\n\u001b[1;32m   1354\u001b[0m     \u001b[38;5;28;01mif\u001b[39;00m \u001b[38;5;28mself\u001b[39m\u001b[38;5;241m.\u001b[39mhas_trait(key):\n\u001b[0;32m-> 1355\u001b[0m         \u001b[38;5;28;43msetattr\u001b[39;49m\u001b[43m(\u001b[49m\u001b[38;5;28;43mself\u001b[39;49m\u001b[43m,\u001b[49m\u001b[43m \u001b[49m\u001b[43mkey\u001b[49m\u001b[43m,\u001b[49m\u001b[43m \u001b[49m\u001b[43mvalue\u001b[49m\u001b[43m)\u001b[49m\n\u001b[1;32m   1356\u001b[0m         changes[key] \u001b[38;5;241m=\u001b[39m Bunch(\n\u001b[1;32m   1357\u001b[0m             name\u001b[38;5;241m=\u001b[39mkey,\n\u001b[1;32m   1358\u001b[0m             old\u001b[38;5;241m=\u001b[39m\u001b[38;5;28;01mNone\u001b[39;00m,\n\u001b[0;32m   (...)\u001b[0m\n\u001b[1;32m   1361\u001b[0m             \u001b[38;5;28mtype\u001b[39m\u001b[38;5;241m=\u001b[39m\u001b[38;5;124m\"\u001b[39m\u001b[38;5;124mchange\u001b[39m\u001b[38;5;124m\"\u001b[39m,\n\u001b[1;32m   1362\u001b[0m         )\n\u001b[1;32m   1363\u001b[0m     \u001b[38;5;28;01melse\u001b[39;00m:\n\u001b[1;32m   1364\u001b[0m         \u001b[38;5;66;03m# passthrough args that don't set traits to super\u001b[39;00m\n",
      "File \u001b[0;32m~/.local/share/virtualenvs/geo-visualization-hk5YsQd9/lib/python3.12/site-packages/traitlets/traitlets.py:716\u001b[0m, in \u001b[0;36mTraitType.__set__\u001b[0;34m(self, obj, value)\u001b[0m\n\u001b[1;32m    714\u001b[0m \u001b[38;5;28;01mif\u001b[39;00m \u001b[38;5;28mself\u001b[39m\u001b[38;5;241m.\u001b[39mread_only:\n\u001b[1;32m    715\u001b[0m     \u001b[38;5;28;01mraise\u001b[39;00m TraitError(\u001b[38;5;124m'\u001b[39m\u001b[38;5;124mThe \u001b[39m\u001b[38;5;124m\"\u001b[39m\u001b[38;5;132;01m%s\u001b[39;00m\u001b[38;5;124m\"\u001b[39m\u001b[38;5;124m trait is read-only.\u001b[39m\u001b[38;5;124m'\u001b[39m \u001b[38;5;241m%\u001b[39m \u001b[38;5;28mself\u001b[39m\u001b[38;5;241m.\u001b[39mname)\n\u001b[0;32m--> 716\u001b[0m \u001b[38;5;28;43mself\u001b[39;49m\u001b[38;5;241;43m.\u001b[39;49m\u001b[43mset\u001b[49m\u001b[43m(\u001b[49m\u001b[43mobj\u001b[49m\u001b[43m,\u001b[49m\u001b[43m \u001b[49m\u001b[43mvalue\u001b[49m\u001b[43m)\u001b[49m\n",
      "File \u001b[0;32m~/.local/share/virtualenvs/geo-visualization-hk5YsQd9/lib/python3.12/site-packages/traitlets/traitlets.py:690\u001b[0m, in \u001b[0;36mTraitType.set\u001b[0;34m(self, obj, value)\u001b[0m\n\u001b[1;32m    689\u001b[0m \u001b[38;5;28;01mdef\u001b[39;00m \u001b[38;5;21mset\u001b[39m(\u001b[38;5;28mself\u001b[39m, obj: HasTraits, value: S) \u001b[38;5;241m-\u001b[39m\u001b[38;5;241m>\u001b[39m \u001b[38;5;28;01mNone\u001b[39;00m:\n\u001b[0;32m--> 690\u001b[0m     new_value \u001b[38;5;241m=\u001b[39m \u001b[38;5;28;43mself\u001b[39;49m\u001b[38;5;241;43m.\u001b[39;49m\u001b[43m_validate\u001b[49m\u001b[43m(\u001b[49m\u001b[43mobj\u001b[49m\u001b[43m,\u001b[49m\u001b[43m \u001b[49m\u001b[43mvalue\u001b[49m\u001b[43m)\u001b[49m\n\u001b[1;32m    691\u001b[0m     \u001b[38;5;28;01massert\u001b[39;00m \u001b[38;5;28mself\u001b[39m\u001b[38;5;241m.\u001b[39mname \u001b[38;5;129;01mis\u001b[39;00m \u001b[38;5;129;01mnot\u001b[39;00m \u001b[38;5;28;01mNone\u001b[39;00m\n\u001b[1;32m    692\u001b[0m     \u001b[38;5;28;01mtry\u001b[39;00m:\n",
      "File \u001b[0;32m~/.local/share/virtualenvs/geo-visualization-hk5YsQd9/lib/python3.12/site-packages/traitlets/traitlets.py:722\u001b[0m, in \u001b[0;36mTraitType._validate\u001b[0;34m(self, obj, value)\u001b[0m\n\u001b[1;32m    720\u001b[0m     \u001b[38;5;28;01mreturn\u001b[39;00m value\n\u001b[1;32m    721\u001b[0m \u001b[38;5;28;01mif\u001b[39;00m \u001b[38;5;28mhasattr\u001b[39m(\u001b[38;5;28mself\u001b[39m, \u001b[38;5;124m\"\u001b[39m\u001b[38;5;124mvalidate\u001b[39m\u001b[38;5;124m\"\u001b[39m):\n\u001b[0;32m--> 722\u001b[0m     value \u001b[38;5;241m=\u001b[39m \u001b[38;5;28;43mself\u001b[39;49m\u001b[38;5;241;43m.\u001b[39;49m\u001b[43mvalidate\u001b[49m\u001b[43m(\u001b[49m\u001b[43mobj\u001b[49m\u001b[43m,\u001b[49m\u001b[43m \u001b[49m\u001b[43mvalue\u001b[49m\u001b[43m)\u001b[49m\n\u001b[1;32m    723\u001b[0m \u001b[38;5;28;01mif\u001b[39;00m obj\u001b[38;5;241m.\u001b[39m_cross_validation_lock \u001b[38;5;129;01mis\u001b[39;00m \u001b[38;5;28;01mFalse\u001b[39;00m:\n\u001b[1;32m    724\u001b[0m     value \u001b[38;5;241m=\u001b[39m \u001b[38;5;28mself\u001b[39m\u001b[38;5;241m.\u001b[39m_cross_validate(obj, value)\n",
      "File \u001b[0;32m~/.local/share/virtualenvs/geo-visualization-hk5YsQd9/lib/python3.12/site-packages/traitlets/traitlets.py:2811\u001b[0m, in \u001b[0;36mCFloat.validate\u001b[0;34m(self, obj, value)\u001b[0m\n\u001b[1;32m   2809\u001b[0m     value \u001b[38;5;241m=\u001b[39m \u001b[38;5;28mfloat\u001b[39m(value)\n\u001b[1;32m   2810\u001b[0m \u001b[38;5;28;01mexcept\u001b[39;00m \u001b[38;5;167;01mException\u001b[39;00m:\n\u001b[0;32m-> 2811\u001b[0m     \u001b[38;5;28;43mself\u001b[39;49m\u001b[38;5;241;43m.\u001b[39;49m\u001b[43merror\u001b[49m\u001b[43m(\u001b[49m\u001b[43mobj\u001b[49m\u001b[43m,\u001b[49m\u001b[43m \u001b[49m\u001b[43mvalue\u001b[49m\u001b[43m)\u001b[49m\n\u001b[1;32m   2812\u001b[0m \u001b[38;5;28;01mreturn\u001b[39;00m t\u001b[38;5;241m.\u001b[39mcast(G, _validate_bounds(\u001b[38;5;28mself\u001b[39m, obj, value))\n",
      "File \u001b[0;32m~/.local/share/virtualenvs/geo-visualization-hk5YsQd9/lib/python3.12/site-packages/traitlets/traitlets.py:831\u001b[0m, in \u001b[0;36mTraitType.error\u001b[0;34m(self, obj, value, error, info)\u001b[0m\n\u001b[1;32m    825\u001b[0m \u001b[38;5;28;01melse\u001b[39;00m:\n\u001b[1;32m    826\u001b[0m     e \u001b[38;5;241m=\u001b[39m \u001b[38;5;124m\"\u001b[39m\u001b[38;5;124mThe \u001b[39m\u001b[38;5;124m'\u001b[39m\u001b[38;5;132;01m{}\u001b[39;00m\u001b[38;5;124m'\u001b[39m\u001b[38;5;124m trait expected \u001b[39m\u001b[38;5;132;01m{}\u001b[39;00m\u001b[38;5;124m, not \u001b[39m\u001b[38;5;132;01m{}\u001b[39;00m\u001b[38;5;124m.\u001b[39m\u001b[38;5;124m\"\u001b[39m\u001b[38;5;241m.\u001b[39mformat(\n\u001b[1;32m    827\u001b[0m         \u001b[38;5;28mself\u001b[39m\u001b[38;5;241m.\u001b[39mname,\n\u001b[1;32m    828\u001b[0m         info \u001b[38;5;129;01mor\u001b[39;00m \u001b[38;5;28mself\u001b[39m\u001b[38;5;241m.\u001b[39minfo(),\n\u001b[1;32m    829\u001b[0m         describe(\u001b[38;5;124m\"\u001b[39m\u001b[38;5;124mthe\u001b[39m\u001b[38;5;124m\"\u001b[39m, value),\n\u001b[1;32m    830\u001b[0m     )\n\u001b[0;32m--> 831\u001b[0m \u001b[38;5;28;01mraise\u001b[39;00m TraitError(e)\n",
      "\u001b[0;31mTraitError\u001b[0m: The 'value' trait of a FloatSlider instance expected a float, not the list ['interpolate', ['linear'], ['zoom'], 7, 1, 9, 0]."
     ]
    }
   ],
   "source": [
    "m = leafmap.Map(center=[0, 20], zoom=2, height=\"600px\", \n",
    "                style='https://dev.undpgeohub.org/api/mapstyle/style.json'\n",
    "               )\n",
    "\n",
    "# create a maplibre style object as a python dictionary \n",
    "simple_point_style = {\n",
    "    \"version\": 8,\n",
    "    \"sources\": {\n",
    "        \"example_source\": {\n",
    "            \"type\": \"vector\",\n",
    "            \"url\": \"pmtiles://\" + pmtiles_url,\n",
    "            \"attribution\": \"PMTiles\",\n",
    "        }\n",
    "    },\n",
    "    \"layers\": [\n",
    "        {\n",
    "            \"id\": \"bbuildings\",\n",
    "            \"source\": \"example_source\",\n",
    "            \"source-layer\": \"bldgsc\",\n",
    "            #\"maxzoom\": 9,\n",
    "            \"type\": \"heatmap\",\n",
    "            \n",
    "            \"paint\": {\n",
    "                    'heatmap-weight': [\n",
    "                      'interpolate', ['linear'],\n",
    "                      ['get', 'confidence'], 0, 0, 0.1, 0.1, 0.2, 0.2, 0.3, 0.3,\n",
    "                      0.5, 0.5, 1, 1,\n",
    "                    ],\n",
    "                    'heatmap-intensity': [\n",
    "                      'interpolate', ['linear'],\n",
    "                      ['zoom'], 0, 1, 13, 3\n",
    "                    ],\n",
    "                    'heatmap-color': [\n",
    "                      'interpolate', ['linear'],\n",
    "                      ['heatmap-density'], \n",
    "                        0,\n",
    "                        \"rgba(33,102,172,0)\",\n",
    "                        0.2,\n",
    "                        \"rgb(103,169,207)\",\n",
    "                        0.4,\n",
    "                        \"rgb(209,229,240)\",\n",
    "                        0.6,\n",
    "                        \"rgb(253,219,199)\",\n",
    "                        0.8,\n",
    "                        \"rgb(239,138,98)\",\n",
    "                        1,\n",
    "                        \"rgb(178,24,43)\",\n",
    "                    ],\n",
    "                    'heatmap-radius': [\n",
    "                      'interpolate', ['linear'],\n",
    "                      ['get', 'population'], 1000, 1, 1000000, 20, 10000000, 30\n",
    "                    ],\n",
    "                    'heatmap-opacity': [\n",
    "                      'interpolate', ['linear'],\n",
    "                      ['zoom'], 7, 1, 9, 0\n",
    "                    ]\n",
    "                  },\n",
    "        }\n",
    "    ]\n",
    "}\n",
    "m.add_pmtiles(\n",
    "    pmtiles_url,\n",
    "    style=simple_point_style,\n",
    "    visible=True,\n",
    "    opacity=1.0,\n",
    "    tooltip=True,\n",
    ")\n",
    "\n",
    "m.layer_interact()\n",
    "\n"
   ]
  },
  {
   "cell_type": "code",
   "execution_count": null,
   "id": "d8a398e5-42a0-4389-adbe-0f0364a56ecf",
   "metadata": {},
   "outputs": [],
   "source": [
    "tab_contents = ['P0', 'P1', 'P2', 'P3', 'P4']\n",
    "children = [widgets.Text(description=name) for name in tab_contents]\n",
    "tab = widgets.Tab()\n",
    "tab.children = children\n",
    "tab.titles = [str(i) for i in range(len(children))]\n",
    "tab"
   ]
  },
  {
   "cell_type": "code",
   "execution_count": null,
   "id": "2e614b4f-8fa6-4092-b011-df22b20e0049",
   "metadata": {},
   "outputs": [],
   "source": [
    "m"
   ]
  },
  {
   "cell_type": "code",
   "execution_count": null,
   "id": "86494207-126f-4edd-919a-63b89de49bca",
   "metadata": {},
   "outputs": [],
   "source": [
    "m.fit_bounds(metadata['bounds'])"
   ]
  }
 ],
 "metadata": {
  "kernelspec": {
   "display_name": "Python 3 (ipykernel)",
   "language": "python",
   "name": "python3"
  },
  "language_info": {
   "codemirror_mode": {
    "name": "ipython",
    "version": 3
   },
   "file_extension": ".py",
   "mimetype": "text/x-python",
   "name": "python",
   "nbconvert_exporter": "python",
   "pygments_lexer": "ipython3",
   "version": "3.12.3"
  }
 },
 "nbformat": 4,
 "nbformat_minor": 5
}
