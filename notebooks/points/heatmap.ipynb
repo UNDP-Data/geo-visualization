{
 "cells": [
  {
   "cell_type": "markdown",
   "id": "66bff243-4913-4473-923d-2111668ec236",
   "metadata": {},
   "source": [
    "#  Visualize points as heatmap\n",
    "\n",
    "In particular situations when the number of points on the map is excessive their visualization can become problematic. Essentially\n",
    "the points start to overlap and crods the map up to the point where it becomes unreadable. A possible solution is representated by\n",
    "vizualizing the points as a **heatmap**, focusing on the density or intensity of data points across a geographic area. Instead of showing individual points, a heatmap uses color gradients to show where data points are concentrated, allowing patterns and trends to be visually interpreted more easily.\n",
    "\n",
    "\n",
    ">  a heatmap **should not** be used to represent anything else than the density ofd the points. While a heatmap appears similar to a surface it does not share any of characteritics. \n",
    "\n"
   ]
  },
  {
   "cell_type": "markdown",
   "id": "b8ceafb4-086d-4cfe-9966-ed7ba0983137",
   "metadata": {},
   "source": [
    "## Imports\n",
    "\n",
    "alter sys.path so we can import utils module"
   ]
  },
  {
   "cell_type": "code",
   "execution_count": 17,
   "id": "d1133d37-2da0-46b0-9f7c-2d59d699fa8b",
   "metadata": {},
   "outputs": [],
   "source": [
    "import sys\n",
    "import os\n",
    "import ipywidgets as widgets\n",
    "# Add parent directory to sys.path\n",
    "sys.path.insert(0, os.path.abspath('..'))"
   ]
  },
  {
   "cell_type": "code",
   "execution_count": 2,
   "id": "56c07418-44e7-4842-a037-87d9ac0c873f",
   "metadata": {},
   "outputs": [],
   "source": [
    "import utils"
   ]
  },
  {
   "cell_type": "code",
   "execution_count": 3,
   "id": "6191aa94-fc54-4ab4-9150-de1fb0ec5d7d",
   "metadata": {},
   "outputs": [],
   "source": [
    "import leafmap.maplibregl as leafmap"
   ]
  },
  {
   "cell_type": "markdown",
   "id": "318932f6-5494-4d7d-b3b4-82c2b462130b",
   "metadata": {
    "editable": true,
    "slideshow": {
     "slide_type": ""
    },
    "tags": []
   },
   "source": [
    "## Data\n",
    "\n",
    "We are going to vizualize a point layer representing building from east of Bangladesh. Geohub features [REST API](https://dev.undpgeohub.org/api)\n",
    "and as a result it is possible to searh for data usingh the [/datasets](https://dev.undpgeohub.org/api/datasets) endpoint. The [utils module](../utils.py) contains a search function that takes a query expression or workd and returns a dictionary where the key is the dataset id and value is a list of links."
   ]
  },
  {
   "cell_type": "code",
   "execution_count": 4,
   "id": "db1dd84a-42c5-4e21-bfd3-d1b63f5c3f58",
   "metadata": {},
   "outputs": [],
   "source": [
    "query='bangladesh buildings'\n",
    "results = utils.search_datasets(query=query)"
   ]
  },
  {
   "cell_type": "code",
   "execution_count": 5,
   "id": "25a8cb8a-fe07-4563-af2a-2da1e897fc34",
   "metadata": {},
   "outputs": [],
   "source": [
    "\n",
    "ds_id, links = next(iter(results.items()))\n",
    "pmtiles_url = [e['href'] for e in links if e['rel'] == 'download'].pop()\n"
   ]
  },
  {
   "cell_type": "markdown",
   "id": "e55cd06d-8e26-47ab-94db-f50969da6c28",
   "metadata": {},
   "source": [
    "## Visualization\n",
    "\n",
    "leafmap is equipped with some util functions that allow us to inspect the PMTiles file"
   ]
  },
  {
   "cell_type": "code",
   "execution_count": 6,
   "id": "d70f94fa-17fc-4974-bf19-336cfb9b43b1",
   "metadata": {},
   "outputs": [
    {
     "name": "stdout",
     "output_type": "stream",
     "text": [
      "layer names: ['bldgsc']\n",
      "bounds: [90.8483229, 23.3422379, 91.063028, 23.510859]\n"
     ]
    }
   ],
   "source": [
    "metadata = leafmap.pmtiles_metadata(pmtiles_url)\n",
    "print(f\"layer names: {metadata['layer_names']}\")\n",
    "print(f\"bounds: {metadata['bounds']}\")\n"
   ]
  },
  {
   "cell_type": "markdown",
   "id": "17eaa1fa-72b6-47e4-b74d-26426700c991",
   "metadata": {},
   "source": [
    "## Attributes or properties\n",
    "\n",
    "Vector tiles are very efficient with compressing attributes or properties. The medata variable crteated above can be used to explore/dicover\n",
    "the properties of attributes that existy in the data file.\n"
   ]
  },
  {
   "cell_type": "code",
   "execution_count": 7,
   "id": "44855cb7-4975-43f9-8210-354001ae2f20",
   "metadata": {},
   "outputs": [
    {
     "name": "stdout",
     "output_type": "stream",
     "text": [
      "{\n",
      "    \"area_in_meters\": \"Number\",\n",
      "    \"bf_source\": \"String\",\n",
      "    \"boundary_id\": \"Mixed\",\n",
      "    \"confidence\": \"Number\",\n",
      "    \"country_iso\": \"String\",\n",
      "    \"geohash\": \"String\",\n",
      "    \"s2_id\": \"Mixed\"\n",
      "}\n",
      "\n",
      "\n"
     ]
    }
   ],
   "source": [
    "import json\n",
    "#print(json.dumps(metadata, indent=2))\n",
    "fields = metadata['vector_layers'][0]['fields']\n",
    "print(json.dumps(fields, indent=4))\n",
    "attrs = metadata['tilestats']['layers'][0]['attributes']\n",
    "print('\\n')\n"
   ]
  },
  {
   "cell_type": "markdown",
   "id": "2bad22ba-29be-4920-aa06-486b596130ef",
   "metadata": {},
   "source": [
    "The best chance to assign a color to every point is to inspoect the values of a string type attribute or property like **bf_source**\n"
   ]
  },
  {
   "cell_type": "code",
   "execution_count": 8,
   "id": "59605b76-01bb-471a-9df7-6e719f27ef76",
   "metadata": {},
   "outputs": [
    {
     "name": "stdout",
     "output_type": "stream",
     "text": [
      "\n",
      "\n",
      "bf_source attribute values are ['google', 'microsoft', 'osm']\n",
      "\n"
     ]
    }
   ],
   "source": [
    "print('\\n')\n",
    "for e in attrs:\n",
    "    if e['attribute'] == 'bf_source':\n",
    "        print(f'bf_source attribute values are {e[\"values\"]}\\n')\n"
   ]
  },
  {
   "cell_type": "markdown",
   "id": "c0aaf536-c64d-4c4b-a504-3a937677a2f0",
   "metadata": {},
   "source": [
    "We will assign a scperific color to every points based on the values of the **bf_source** attribute"
   ]
  },
  {
   "cell_type": "code",
   "execution_count": 34,
   "id": "d0a90f57-ef13-4bf7-8630-55beaf563f48",
   "metadata": {},
   "outputs": [
    {
     "data": {
      "application/vnd.jupyter.widget-view+json": {
       "model_id": "fb115418950443cf83153e703244cdea",
       "version_major": 2,
       "version_minor": 0
      },
      "text/plain": [
       "HBox(children=(Dropdown(description='Layer', index=1, options=('background', 'bbuildings'), style=DescriptionS…"
      ]
     },
     "execution_count": 34,
     "metadata": {},
     "output_type": "execute_result"
    }
   ],
   "source": [
    "m = leafmap.Map(center=[0, 20], zoom=2, height=\"600px\", \n",
    "                style='https://dev.undpgeohub.org/api/mapstyle/style.json'\n",
    "               )\n",
    "\n",
    "# create a maplibre style object as a python dictionary \n",
    "simple_point_style = {\n",
    "    \"version\": 8,\n",
    "    \"sources\": {\n",
    "        \"example_source\": {\n",
    "            \"type\": \"vector\",\n",
    "            \"url\": \"pmtiles://\" + pmtiles_url,\n",
    "            \"attribution\": \"PMTiles\",\n",
    "        }\n",
    "    },\n",
    "    \"layers\": [\n",
    "        {\n",
    "            \"id\": \"bbuildings\",\n",
    "            \"source\": \"example_source\",\n",
    "            \"source-layer\": \"bldgsc\",\n",
    "            #\"maxzoom\": 9,\n",
    "            \"type\": \"heatmap\",\n",
    "            \n",
    "            \"paint\": {\n",
    "                    'heatmap-weight': [\n",
    "                      'interpolate', ['linear'],\n",
    "                      ['get', 'confidence'], 0, 0, 0.1, 0.1, 0.2, 0.2, 0.3, 0.3,\n",
    "                      0.5, 0.5, 1, 1,\n",
    "                    ],\n",
    "                    'heatmap-intensity': [\n",
    "                      'interpolate', ['linear'],\n",
    "                      ['zoom'], 0, 1, 13, 3\n",
    "                    ],\n",
    "                    'heatmap-color': [\n",
    "                      'interpolate', ['linear'],\n",
    "                      ['heatmap-density'], \n",
    "                        0,\n",
    "                        \"rgba(33,102,172,0)\",\n",
    "                        0.2,\n",
    "                        \"rgb(103,169,207)\",\n",
    "                        0.4,\n",
    "                        \"rgb(209,229,240)\",\n",
    "                        0.6,\n",
    "                        \"rgb(253,219,199)\",\n",
    "                        0.8,\n",
    "                        \"rgb(239,138,98)\",\n",
    "                        1,\n",
    "                        \"rgb(178,24,43)\",\n",
    "                    ],\n",
    "                    'heatmap-radius': [\n",
    "                      'interpolate', ['linear'],\n",
    "                      ['get', 'population'], 1000, 1, 1000000, 20, 10000000, 30\n",
    "                    ],\n",
    "                    'heatmap-opacity': [\n",
    "                      'interpolate', ['linear'],\n",
    "                      ['zoom'], 7, 1, 9, 0\n",
    "                    ]\n",
    "                  },\n",
    "        }\n",
    "    ]\n",
    "}\n",
    "m.add_pmtiles(\n",
    "    pmtiles_url,\n",
    "    style=simple_point_style,\n",
    "    visible=True,\n",
    "    opacity=1.0,\n",
    "    tooltip=True,\n",
    ")\n",
    "\n",
    "m.layer_interact()\n",
    "\n"
   ]
  },
  {
   "cell_type": "code",
   "execution_count": 35,
   "id": "d8a398e5-42a0-4389-adbe-0f0364a56ecf",
   "metadata": {},
   "outputs": [
    {
     "data": {
      "application/vnd.jupyter.widget-view+json": {
       "model_id": "6653168d208b4a36b6df871e48059f48",
       "version_major": 2,
       "version_minor": 0
      },
      "text/plain": [
       "Tab(children=(Text(value='', description='P0'), Text(value='', description='P1'), Text(value='', description='…"
      ]
     },
     "execution_count": 35,
     "metadata": {},
     "output_type": "execute_result"
    }
   ],
   "source": [
    "tab_contents = ['P0', 'P1', 'P2', 'P3', 'P4']\n",
    "children = [widgets.Text(description=name) for name in tab_contents]\n",
    "tab = widgets.Tab()\n",
    "tab.children = children\n",
    "tab.titles = [str(i) for i in range(len(children))]\n",
    "tab"
   ]
  },
  {
   "cell_type": "code",
   "execution_count": 36,
   "id": "2e614b4f-8fa6-4092-b011-df22b20e0049",
   "metadata": {},
   "outputs": [
    {
     "data": {
      "application/vnd.jupyter.widget-view+json": {
       "model_id": "6507add84048412d85c76afd4079bf54",
       "version_major": 2,
       "version_minor": 1
      },
      "text/plain": [
       "Map(height='600px', map_options={'bearing': 0, 'center': (0, 20), 'pitch': 0, 'style': 'https://dev.undpgeohub…"
      ]
     },
     "execution_count": 36,
     "metadata": {},
     "output_type": "execute_result"
    }
   ],
   "source": [
    "m"
   ]
  },
  {
   "cell_type": "code",
   "execution_count": 16,
   "id": "86494207-126f-4edd-919a-63b89de49bca",
   "metadata": {},
   "outputs": [],
   "source": [
    "m.fit_bounds(metadata['bounds'])"
   ]
  }
 ],
 "metadata": {
  "kernelspec": {
   "display_name": "Python 3 (ipykernel)",
   "language": "python",
   "name": "python3"
  },
  "language_info": {
   "codemirror_mode": {
    "name": "ipython",
    "version": 3
   },
   "file_extension": ".py",
   "mimetype": "text/x-python",
   "name": "python",
   "nbconvert_exporter": "python",
   "pygments_lexer": "ipython3",
   "version": "3.10.12"
  }
 },
 "nbformat": 4,
 "nbformat_minor": 5
}
