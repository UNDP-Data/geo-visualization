{
 "cells": [
  {
   "cell_type": "markdown",
   "id": "2c1a5e0e-025c-4174-b841-3c0573e1ee46",
   "metadata": {},
   "source": [
    "# Geospatial visualization for developers\n",
    "\n",
    "The **geospatial technological field** is constantly growing fuelled by advances\n",
    "in cloud compute as well as large scale investments in geospatial data acquisition systems.\n",
    "\n",
    "\n",
    "## Context\n",
    "\n",
    "Traditionally web mapping has been part of the backend (server side) components. As a results several geospatial standards\n",
    "like [OGC WMS](https://www.ogc.org/publications/standard/wms/) have been developed to facilitate this process. Essentially\n",
    "the servers would consume large configuration files that bringh bout how to **draw** the geospatial datasets and\n",
    "serve theme as pictures (png, wpng, jpg, etc.)\n",
    "\n",
    "Two pivotal chnages have transformed the web mapping:\n",
    "\n",
    "### 1. Reactive/modern web frameworks that employ webGL. \n",
    "\n",
    "This has enabled web browser to take a proactive role in the web mapping by enabling them\n",
    "to render efficiently geospatial data withing their process space. Specialized binary data fromats like [Mapbox Vector tiles](https://docs.mapbox.com/data/tilesets/guides/vector-tiles-introduction/) have been created to leverage these frameworks.\n",
    "\n",
    "One such example is [MapLibre](https://maplibre.org), an Open-source TypeScript library for publishing maps.\n",
    "\n",
    "\n",
    "\n",
    "### 2. Cloud technologies. \n",
    "\n",
    "The proliferation of cloud technologies has made geospatial much more accessible. Today, there exists servers that rendert data\n",
    "on demand by consuming it in real time from various storage structures.\n",
    "\n",
    "## Table of content\n",
    "\n",
    " - ### 1. Points\n",
    "\n",
    "    - [simple points](./points/simple.ipynb)\n",
    "    - [unique values](./points/unique_values.ipynb)\n",
    "    - [heatmap](./points/heatmap.ipynb)\n",
    "        \n",
    " - ### 2. Lines\n",
    "\n",
    "    - [simple lines](./lines/simple_line.ipynb)\n",
    "    - [proportional line width](./lines/classifies_line_width.ipynb)\n",
    " \n",
    " - ### 3. Polygons\n",
    "\n",
    "    - [simple polygons](./polygon/simple_polygon.ipynb)\n",
    "    - [choropleth](./polygon/choropleth.ipynb)\n",
    "\n",
    "\n"
   ]
  },
  {
   "cell_type": "markdown",
   "id": "2a622edb-3f64-4ccd-92d8-7efb395eb0fc",
   "metadata": {},
   "source": []
  }
 ],
 "metadata": {
  "kernelspec": {
   "display_name": "Python 3 (ipykernel)",
   "language": "python",
   "name": "python3"
  },
  "language_info": {
   "codemirror_mode": {
    "name": "ipython",
    "version": 3
   },
   "file_extension": ".py",
   "mimetype": "text/x-python",
   "name": "python",
   "nbconvert_exporter": "python",
   "pygments_lexer": "ipython3",
   "version": "3.10.12"
  }
 },
 "nbformat": 4,
 "nbformat_minor": 5
}
