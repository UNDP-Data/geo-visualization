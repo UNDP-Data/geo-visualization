{
 "cells": [
  {
   "cell_type": "markdown",
   "id": "2c1a5e0e-025c-4174-b841-3c0573e1ee46",
   "metadata": {},
   "source": [
    "# Geospatial visualization for developers\n",
    "\n",
    "The **geospatial technological field** is constantly growing fuelled by advances\n",
    "in cloud compute as well as large scale investments in geospatial data acquisition systems.\n",
    "\n",
    "\n",
    "## Context\n",
    "\n",
    "Traditionally web mapping has been part of the backend (server side) components. As a results several geospatial standards\n",
    "like [OGC WMS](https://www.ogc.org/publications/standard/wms/) have been developed to facilitate this process. Essentially\n",
    "the servers would consume large configuration files that bring about how to **draw** the geospatial datasets and\n",
    "serve theme as pictures (png, wpng, jpg, etc.)\n",
    "\n",
    "Two pivotal chnages have transformed the web mapping:\n",
    "\n",
    "### 1. Reactive/modern web frameworks that employ webGL. \n",
    "\n",
    "This has enabled web browser to take a proactive role in the web mapping by enabling them\n",
    "to render efficiently geospatial data withing their process space. Specialized binary data fromats like [Mapbox Vector tiles](https://docs.mapbox.com/data/tilesets/guides/vector-tiles-introduction/) have been created to leverage these frameworks.\n",
    "\n",
    "One such example is [MapLibre](https://maplibre.org), an Open-source TypeScript library for publishing maps.\n",
    "\n",
    "\n",
    "\n",
    "### 2. Cloud technologies. \n",
    "\n",
    "The proliferation of cloud technologies has made geospatial much more accessible. Today, there exists servers that render data\n",
    "on demand by consuming it in real time from various storage structures.\n",
    "\n",
    "[https://titiler.undpgeohub.org/cog/tiles/WebMercatorQuad/3/4/3.png?url=https%3A%2F%2Fundpgeohub.blob.core.windows.net%2Fuserdata%2F9426cffc00b069908b2868935d1f3e90%2Fdatasets%2FGHS_POP_E2024_GLOBE_R2023A_54009_1000_V1_0_20240828143933.tif%2FGHS_POP_E2024_GLOBE_R2023A_54009_1000_V1_0_20240828143933_band1.tif%3Fc3Y9MjAyNC0xMS0wNCZzcz1iJnNydD1vJnNlPTIwMjUtMTEtMDVUMTAlM0EzMCUzQTQ3WiZzcD1yJnNpZz1FUWJ0NEVJenVRcE1zTkRnc2FDYU1OV3g1b0NKR1hWRkJXc3BIV1NDM3ZrJTNE&scale=1&resampling=nearest&return_mask=true&bidx=1&rescale=0%2C2500&colormap_name=bupu](https://titiler.undpgeohub.org/cog/tiles/WebMercatorQuad/3/4/3.png?url=https%3A%2F%2Fundpgeohub.blob.core.windows.net%2Fuserdata%2F9426cffc00b069908b2868935d1f3e90%2Fdatasets%2FGHS_POP_E2024_GLOBE_R2023A_54009_1000_V1_0_20240828143933.tif%2FGHS_POP_E2024_GLOBE_R2023A_54009_1000_V1_0_20240828143933_band1.tif%3Fc3Y9MjAyNC0xMS0wNCZzcz1iJnNydD1vJnNlPTIwMjUtMTEtMDVUMTAlM0EzMCUzQTQ3WiZzcD1yJnNpZz1FUWJ0NEVJenVRcE1zTkRnc2FDYU1OV3g1b0NKR1hWRkJXc3BIV1NDM3ZrJTNE&scale=1&resampling=nearest&return_mask=true&bidx=1&rescale=0%2C2500&colormap_name=bupu)\n",
    "\n",
    "\n",
    "## Table of content\n",
    "\n",
    " - ### 1. Points\n",
    "\n",
    "    - [simple points](./points/simple.ipynb)\n",
    "    - [unique values](./points/unique_values.ipynb)\n",
    "    - [heatmap](./points/heatmap.ipynb)\n",
    "        \n",
    " - ### 2. Lines\n",
    "\n",
    "    - [simple lines](./lines/simple_line.ipynb)\n",
    "    - [proportional line width](./lines/classifies_line_width.ipynb)\n",
    " \n",
    " - ### 3. Polygons\n",
    "\n",
    "    - [simple polygons](./polygon/simple_polygon.ipynb)\n",
    "    - [choropleth](./polygon/choropleth.ipynb)\n",
    "\n",
    " - ### 3. raster\n",
    "\n",
    "    - [unique values ](./raster/raster_unique_values.ipynb)\n"
   ]
  },
  {
   "cell_type": "markdown",
   "id": "2a622edb-3f64-4ccd-92d8-7efb395eb0fc",
   "metadata": {},
   "source": []
  }
 ],
 "metadata": {
  "kernelspec": {
   "display_name": "Python 3 (ipykernel)",
   "language": "python",
   "name": "python3"
  },
  "language_info": {
   "codemirror_mode": {
    "name": "ipython",
    "version": 3
   },
   "file_extension": ".py",
   "mimetype": "text/x-python",
   "name": "python",
   "nbconvert_exporter": "python",
   "pygments_lexer": "ipython3",
   "version": "3.10.12"
  }
 },
 "nbformat": 4,
 "nbformat_minor": 5
}
